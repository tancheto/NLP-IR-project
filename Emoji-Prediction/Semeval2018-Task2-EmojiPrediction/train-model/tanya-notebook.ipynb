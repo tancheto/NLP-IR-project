{
 "cells": [
  {
   "cell_type": "code",
   "execution_count": null,
   "metadata": {},
   "outputs": [],
   "source": [
    "from feature_engineering import feature_engineering, get_preprocessed_data\n",
    "import re"
   ]
  },
  {
   "cell_type": "code",
   "execution_count": null,
   "metadata": {},
   "outputs": [],
   "source": [
    "def get_labels():\n",
    "    train_file_path = '../data/x-train/train/{}_train.lables'\n",
    " \n",
    "    with open(train_file_path.format(\"us\"), 'r', encoding=\"utf8\") as train:\n",
    "        labels = []\n",
    "        for line in train:\n",
    "            labels.append(re.sub('\\n', '', line))\n",
    "\n",
    "    return labels"
   ]
  },
  {
   "cell_type": "code",
   "execution_count": null,
   "metadata": {},
   "outputs": [],
   "source": [
    "from sklearn.ensemble import RandomForestClassifier\n",
    "\n",
    "data = get_preprocessed_data(\"us\")\n",
    "X = feature_engineering(\"us\", data)\n",
    "Y = get_labels()\n",
    "clf = RandomForestClassifier(n_estimators=100)\n",
    "clf = clf.fit(X[0:10000], Y[0:10000])"
   ]
  },
  {
   "cell_type": "code",
   "execution_count": null,
   "metadata": {},
   "outputs": [],
   "source": [
    "clf.score(X[10000:], Y[10000:])"
   ]
  },
  {
   "cell_type": "code",
   "execution_count": null,
   "metadata": {},
   "outputs": [],
   "source": [
    "y_predicted = clf.predict(X[10000:])"
   ]
  },
  {
   "cell_type": "code",
   "execution_count": null,
   "metadata": {},
   "outputs": [],
   "source": [
    "from sklearn.metrics import precision_score, recall_score, f1_score, confusion_matrix, ConfusionMatrixDisplay\n",
    "import matplotlib.pyplot as plt\n",
    "import matplotlib.font_manager as mfm\n",
    "\n",
    "precision_score(Y[10000:], y_predicted, average = \"macro\")\n",
    "recall_score(Y[10000:], y_predicted, average = \"macro\")\n",
    "f1_score(Y[10000:], y_predicted, average = \"micro\")\n",
    "cm = confusion_matrix(Y[10000:], y_predicted)\n",
    "\n",
    "ls = list(set(y_predicted))\n",
    "disp = ConfusionMatrixDisplay(confusion_matrix=cm)\n",
    "\n",
    "disp.plot()\n",
    "# plt.annotate(fontproperties = emoji_font)\n",
    "plt.show()"
   ]
  },
  {
   "cell_type": "code",
   "execution_count": null,
   "metadata": {},
   "outputs": [],
   "source": [
    "from sklearn import svm\n",
    "\n",
    "clf_2 = svm.SVC()\n",
    "clf_2.fit(X[0:10000], Y[0:10000])\n"
   ]
  },
  {
   "cell_type": "code",
   "execution_count": null,
   "metadata": {},
   "outputs": [],
   "source": [
    "clf_2.score(X[10000:], Y[10000:])"
   ]
  }
 ],
 "metadata": {
  "interpreter": {
   "hash": "fb4a1f5fcbdc1843cceb89530bfbd4edb5e351340a874a23daccaa978c3276ee"
  },
  "kernelspec": {
   "display_name": "Python 3.10.0 64-bit",
   "language": "python",
   "name": "python3"
  },
  "language_info": {
   "codemirror_mode": {
    "name": "ipython",
    "version": 3
   },
   "file_extension": ".py",
   "mimetype": "text/x-python",
   "name": "python",
   "nbconvert_exporter": "python",
   "pygments_lexer": "ipython3",
   "version": "3.10.0"
  },
  "orig_nbformat": 4
 },
 "nbformat": 4,
 "nbformat_minor": 2
}
